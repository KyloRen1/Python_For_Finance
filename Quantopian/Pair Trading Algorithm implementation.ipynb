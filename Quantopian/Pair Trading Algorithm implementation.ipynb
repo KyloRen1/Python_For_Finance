{
 "cells": [
  {
   "cell_type": "markdown",
   "metadata": {},
   "source": [
    "# Implementation of Strategy\n",
    "\n",
    "## warning: this algorithm loses "
   ]
  },
  {
   "cell_type": "code",
   "execution_count": 1,
   "metadata": {},
   "outputs": [],
   "source": [
    "import numpy as np\n",
    " \n",
    "def initialize(context):\n",
    "    \"\"\"\n",
    "    Called once at the start of the algorithm.\n",
    "    \"\"\"   \n",
    "    \n",
    "    # Every day we check the pair status\n",
    "    schedule_function(check_pairs, date_rules.every_day(), time_rules.market_close(minutes=60))\n",
    "    \n",
    "    # Our Two Airlines\n",
    "    context.aa = sid(45971) #aal\n",
    "    context.ual = sid(28051) #ual   \n",
    "    \n",
    "    # Flags to tell us if we're currently in a trade\n",
    "    context.long_on_spread = False\n",
    "    context.shorting_spread = False\n",
    "\n",
    "\n",
    "def check_pairs(context, data):\n",
    "    \n",
    "    # For convenience\n",
    "    aa = context.aa\n",
    "    ual = context.ual\n",
    "    \n",
    "    # Get pricing history\n",
    "    prices = data.history([aa, ual], \"price\", 30, '1d')\n",
    "    \n",
    " \n",
    "    # Need to use .iloc[-1:] to get dataframe instead of series\n",
    "    short_prices = prices.iloc[-1:]\n",
    "    \n",
    "    # Get the long 30 day mavg\n",
    "    mavg_30 = np.mean(prices[aa] - prices[ual])\n",
    "    \n",
    "    # Get the std of the 30 day long window\n",
    "    std_30 = np.std(prices[aa] - prices[ual])\n",
    "    \n",
    "    # Get the shorter span 1 day mavg\n",
    "    mavg_1 = np.mean(short_prices[aa] - short_prices[ual])\n",
    "    \n",
    "    # Compute z-score\n",
    "    if std_30 > 0:\n",
    "        zscore = (mavg_1 - mavg_30)/std_30\n",
    "    \n",
    "        # Our two entry cases\n",
    "        if zscore > 0.5 and not context.shorting_spread:\n",
    "            # spread = aa - ual\n",
    "            order_target_percent(aa, -0.5) # short top\n",
    "            order_target_percent(ual, 0.5) # long bottom\n",
    "            context.shorting_spread = True\n",
    "            context.long_on_spread = False\n",
    "            \n",
    "        elif zscore < -0.5 and not context.long_on_spread:\n",
    "            # spread = aa - ual\n",
    "            order_target_percent(aa, 0.5) # long top\n",
    "            order_target_percent(ual, -0.5) # short bottom\n",
    "            context.shorting_spread = False\n",
    "            context.long_on_spread = True\n",
    "            \n",
    "        # Our exit case\n",
    "        elif abs(zscore) < 0.1:\n",
    "            order_target_percent(aa, 0)\n",
    "            order_target_percent(ual, 0)\n",
    "            context.shorting_spread = False\n",
    "            context.long_on_spread = False\n",
    "        \n",
    "        record('zscore', zscore)"
   ]
  },
  {
   "cell_type": "code",
   "execution_count": null,
   "metadata": {},
   "outputs": [],
   "source": []
  }
 ],
 "metadata": {
  "kernelspec": {
   "display_name": "Python 2",
   "language": "python",
   "name": "python2"
  },
  "language_info": {
   "codemirror_mode": {
    "name": "ipython",
    "version": 2
   },
   "file_extension": ".py",
   "mimetype": "text/x-python",
   "name": "python",
   "nbconvert_exporter": "python",
   "pygments_lexer": "ipython2",
   "version": "2.7.15"
  }
 },
 "nbformat": 4,
 "nbformat_minor": 1
}
