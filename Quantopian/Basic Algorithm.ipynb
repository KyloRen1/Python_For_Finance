{
 "cells": [
  {
   "cell_type": "markdown",
   "metadata": {},
   "source": [
    "## Our Tech Stock Optimized Portfolio\n",
    "\n",
    "Let's use the tech stock portfolio we calculated earlier. Keep in mind that handle_data() is readjusting our portfolio every minute! That may be unreasonable for certain algorithms, but for this example, we will just continue with these basics functions."
   ]
  },
  {
   "cell_type": "code",
   "execution_count": 1,
   "metadata": {
    "collapsed": true
   },
   "outputs": [],
   "source": [
    "def initialize(context):\n",
    "    # Reference to Tech Stocks\n",
    "    context.aapl = sid(24)\n",
    "    context.csco = sid(1900)\n",
    "    context.amzn = sid(16841)\n",
    "\n",
    "def handle_data(context, data):\n",
    "    # Position our portfolio optimization!\n",
    "    order_target_percent(context.aapl, .27)\n",
    "    order_target_percent(context.csco, .20)\n",
    "    order_target_percent(context.amzn, .53)"
   ]
  },
  {
   "cell_type": "markdown",
   "metadata": {},
   "source": [
    "### Grabbing Current Data"
   ]
  },
  {
   "cell_type": "code",
   "execution_count": 3,
   "metadata": {},
   "outputs": [],
   "source": [
    "def initialize(context):\n",
    "    # Reference to Tech Stocks\n",
    "    context.techies = [sid(16841),sid(24),sid(1900)]\n",
    "\n",
    "def handle_data(context, data):\n",
    "    # Position our portfolio optimization!\n",
    "    tech_close = data.current(context.techies,'close')\n",
    "    print(type(tech_close)) # Pandas Series\n",
    "    print(tech_close) # Closing Prices "
   ]
  },
  {
   "cell_type": "markdown",
   "metadata": {},
   "source": [
    "### Checking for trading"
   ]
  },
  {
   "cell_type": "code",
   "execution_count": 5,
   "metadata": {
    "collapsed": true
   },
   "outputs": [],
   "source": [
    "def initialize(context):\n",
    "    # Reference to amazn\n",
    "    context.amzn = sid(16841)\n",
    "    \n",
    "def handle_data(context, data):\n",
    "    # This insures we don't hit an exception!\n",
    "    if data.can_trade(sid(16841)):\n",
    "        order_target_percent(context.amzn, 1.0)"
   ]
  },
  {
   "cell_type": "markdown",
   "metadata": {},
   "source": [
    "# Checking Historical Data"
   ]
  },
  {
   "cell_type": "code",
   "execution_count": 8,
   "metadata": {},
   "outputs": [],
   "source": [
    "\n",
    "def initialize(context):\n",
    "    # AAPL, MSFT, and SPY\n",
    "    context.assets = [sid(24), sid(1900), sid(16841)]\n",
    "\n",
    "def before_trading_start(context,data):\n",
    "    price_history = data.history(context.assets,fields=\"price\", bar_count=5, frequency=\"1d\")\n",
    "    \n",
    "    print(price_history)\n"
   ]
  },
  {
   "cell_type": "markdown",
   "metadata": {},
   "source": [
    "# Scheduling\n",
    "\n",
    "Use schedule_function to indicate when you want other functions to occur. The functions passed in must take context and data as parameters."
   ]
  },
  {
   "cell_type": "code",
   "execution_count": 2,
   "metadata": {
    "collapsed": true
   },
   "outputs": [],
   "source": [
    "def initialize(context):\n",
    "    context.appl = sid(49051)\n",
    "\n",
    "    # At ebginning of trading week\n",
    "    # At Market Open, set 10% of portfolio to be apple\n",
    "    schedule_function(open_positions, date_rules.week_start(), time_rules.market_open())\n",
    "    \n",
    "    # At end of trading week\n",
    "    # 30 min before market close, dump all apple stock.\n",
    "    schedule_function(close_positions, date_rules.week_end(), time_rules.market_close(minutes=30))\n",
    "\n",
    "def open_positions(context, data):\n",
    "    order_target_percent(context.appl, 0.10)\n",
    "\n",
    "def close_positions(context, data):\n",
    "    order_target_percent(context.appl, 0)"
   ]
  },
  {
   "cell_type": "markdown",
   "metadata": {},
   "source": [
    "# Portfolio Information\n",
    "\n",
    "You can get portfolio information and record it!"
   ]
  },
  {
   "cell_type": "code",
   "execution_count": 3,
   "metadata": {
    "collapsed": true
   },
   "outputs": [],
   "source": [
    "def initialize(context):\n",
    "    context.amzn = sid(16841)\n",
    "    context.ibm = sid(3766)\n",
    "\n",
    "    schedule_function(rebalance, date_rules.every_day(), time_rules.market_open())\n",
    "    schedule_function(record_vars, date_rules.every_day(), time_rules.market_close())\n",
    "\n",
    "def rebalance(context, data):\n",
    "    # Half of our portfolio long on amazn\n",
    "    order_target_percent(context.amzn, 0.50)\n",
    "    # Half is shorting IBM\n",
    "    order_target_percent(context.ibm, -0.50)\n",
    "\n",
    "def record_vars(context, data):\n",
    "\n",
    "    # Plot the counts\n",
    "    record(amzn_close=data.current(context.amzn,'close'))\n",
    "    record(ibm_close=data.current(context.ibm,'close'))"
   ]
  }
 ],
 "metadata": {
  "anaconda-cloud": {},
  "kernelspec": {
   "display_name": "Python 2",
   "language": "python",
   "name": "python2"
  },
  "language_info": {
   "codemirror_mode": {
    "name": "ipython",
    "version": 2
   },
   "file_extension": ".py",
   "mimetype": "text/x-python",
   "name": "python",
   "nbconvert_exporter": "python",
   "pygments_lexer": "ipython2",
   "version": "2.7.15"
  }
 },
 "nbformat": 4,
 "nbformat_minor": 1
}
